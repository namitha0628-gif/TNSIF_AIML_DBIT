{
 "cells": [
  {
   "cell_type": "code",
   "execution_count": 3,
   "id": "e945ec3a-7a98-437c-ae64-276a1271ae9d",
   "metadata": {},
   "outputs": [
    {
     "name": "stdout",
     "output_type": "stream",
     "text": [
      "[ 2  4  6  8 10]\n",
      "[ 2  4  6  8 10]\n",
      "[[ 0  1  2  3]\n",
      " [ 4  5  6  7]\n",
      " [ 8  9 10 11]]\n",
      "[[19 22]\n",
      " [43 50]]\n",
      "Mean: 0.07192429734717327, Std: 0.987723742780878\n"
     ]
    }
   ],
   "source": [
    "import numpy as np\n",
    "# Creating arrays\n",
    "arr1 = np.array([1, 2, 3, 4, 5]) # 1D array\n",
    "arr2 = np.array([[1, 2, 3], [4, 5, 6]]) # 20 array\n",
    "\n",
    "# Array operations (vectorization)\n",
    "print(arr1 * 2) # Multiply each element by 2\n",
    "print(arr1 + arr1) # Add arrays element-wise\n",
    "\n",
    "# Reshaping\n",
    "arr3 = np.arange(12). reshape(3, 4) # Create 3x4 array from 8-11\n",
    "print(arr3)\n",
    "\n",
    "# Matrix operations\n",
    "matrix1 = np.array([[1, 2], [3, 4]])\n",
    "matrix2 = np.array( [[5, 6], [7, 8]])\n",
    "print(np.dot(matrix1, matrix2)) # Matrix multiplication\n",
    "\n",
    "# Statistical operations\n",
    "data = np.random.normal(0, 1, 1000) # 1000 random numbers from normal distribution\n",
    "print(f\"Mean: {data.mean()}, Std: {data.std()}\")\n"
   ]
  },
  {
   "cell_type": "code",
   "execution_count": null,
   "id": "5bc49387-add4-46c5-a211-ecf6f3cea466",
   "metadata": {},
   "outputs": [],
   "source": []
  },
  {
   "cell_type": "code",
   "execution_count": 5,
   "id": "f14c6ae3-ea9d-4607-b44e-39a2f99a77bd",
   "metadata": {},
   "outputs": [
    {
     "name": "stdout",
     "output_type": "stream",
     "text": [
      "      Name  Age  Salary\n",
      "0    Alice   25   50000\n",
      "1      Bob   30   60000\n",
      "2  Charlie   35   70000\n",
      "3    David   40   80000\n"
     ]
    }
   ],
   "source": [
    "import pandas as pd\n",
    "import numpy as np\n",
    "data={\n",
    "    'Name':['Alice','Bob','Charlie','David'],\n",
    "    'Age':[25,30,35,40],\n",
    "    'Salary':[50000,60000,70000,80000]\n",
    "}\n",
    "df=pd.DataFrame(data)\n",
    "print(df)"
   ]
  },
  {
   "cell_type": "code",
   "execution_count": 6,
   "id": "ad7f3427-a99f-4ff6-8b3f-1831653ad9b5",
   "metadata": {},
   "outputs": [],
   "source": [
    "# to reading from CSV\n",
    "# df = pd.read_csv('data.csv')"
   ]
  },
  {
   "cell_type": "code",
   "execution_count": 8,
   "id": "9151e9f7-d17e-4443-87de-f07578ae1a30",
   "metadata": {},
   "outputs": [
    {
     "name": "stdout",
     "output_type": "stream",
     "text": [
      "    Name  Age  Salary\n",
      "0  Alice   25   50000\n",
      "1    Bob   30   60000\n"
     ]
    }
   ],
   "source": [
    "print(df.head(2))"
   ]
  },
  {
   "cell_type": "code",
   "execution_count": 9,
   "id": "1e4ca1c1-d9d8-4ef6-92cb-7f59910e9ddc",
   "metadata": {},
   "outputs": [
    {
     "name": "stdout",
     "output_type": "stream",
     "text": [
      "             Age        Salary\n",
      "count   4.000000      4.000000\n",
      "mean   32.500000  65000.000000\n",
      "std     6.454972  12909.944487\n",
      "min    25.000000  50000.000000\n",
      "25%    28.750000  57500.000000\n",
      "50%    32.500000  65000.000000\n",
      "75%    36.250000  72500.000000\n",
      "max    40.000000  80000.000000\n"
     ]
    }
   ],
   "source": [
    "\n",
    "print(df.describe())  "
   ]
  },
  {
   "cell_type": "code",
   "execution_count": 10,
   "id": "bc606134-e3de-4bf6-98f0-d94e4fb701ea",
   "metadata": {},
   "outputs": [
    {
     "name": "stdout",
     "output_type": "stream",
     "text": [
      "32.5\n"
     ]
    }
   ],
   "source": [
    "\n",
    "print(df['Age'].mean())  "
   ]
  },
  {
   "cell_type": "code",
   "execution_count": 11,
   "id": "6062ffa3-dfc2-404b-acf3-11089ff09f23",
   "metadata": {},
   "outputs": [
    {
     "name": "stdout",
     "output_type": "stream",
     "text": [
      "32.5\n"
     ]
    }
   ],
   "source": [
    "\n",
    "print(df['Age'].mean())  "
   ]
  },
  {
   "cell_type": "code",
   "execution_count": 12,
   "id": "37927508-2777-4ee3-acfe-4d40c78bf70f",
   "metadata": {},
   "outputs": [
    {
     "name": "stdout",
     "output_type": "stream",
     "text": [
      "      Name  Age  Salary\n",
      "2  Charlie   35   70000\n",
      "3    David   40   80000\n"
     ]
    }
   ],
   "source": [
    "# Data selection\n",
    "print(df[df['Age'] > 30]) "
   ]
  },
  {
   "cell_type": "code",
   "execution_count": 13,
   "id": "ee8a0311-1cbf-461d-a374-18f9c9ec9bcd",
   "metadata": {},
   "outputs": [
    {
     "name": "stdout",
     "output_type": "stream",
     "text": [
      "      Name  Salary\n",
      "1      Bob   60000\n",
      "2  Charlie   70000\n"
     ]
    }
   ],
   "source": [
    "print(df.loc[1:2, ['Name', 'Salary']]) "
   ]
  },
  {
   "cell_type": "code",
   "execution_count": 14,
   "id": "5bb068aa-d9b7-4623-9f27-47d996315d56",
   "metadata": {},
   "outputs": [
    {
     "name": "stdout",
     "output_type": "stream",
     "text": [
      "     A    B\n",
      "0  1.0  5.0\n",
      "1  2.0  0.0\n",
      "2  0.0  0.0\n",
      "3  4.0  8.0\n"
     ]
    }
   ],
   "source": [
    "df_with_nan = pd.DataFrame({\n",
    "    'A': [1, 2, np.nan, 4],\n",
    "    'B': [5, np.nan, np.nan, 8]\n",
    "})\n",
    "\n",
    "print(df_with_nan.fillna(value=0))  "
   ]
  },
  {
   "cell_type": "code",
   "execution_count": 15,
   "id": "6fee0093-fec7-42a6-9a3c-5e2c9c085e41",
   "metadata": {},
   "outputs": [
    {
     "name": "stdout",
     "output_type": "stream",
     "text": [
      "     A    B\n",
      "0  1.0  5.0\n",
      "3  4.0  8.0\n"
     ]
    }
   ],
   "source": [
    "print(df_with_nan.dropna()) "
   ]
  },
  {
   "cell_type": "code",
   "execution_count": 16,
   "id": "73342258-674e-4696-9dea-348fa23753e6",
   "metadata": {},
   "outputs": [],
   "source": [
    "df['Department'] = ['HR', 'Tech', 'Tech', 'HR']"
   ]
  },
  {
   "cell_type": "code",
   "execution_count": 17,
   "id": "252d21f0-7551-41e7-bc91-a07ece0d3f37",
   "metadata": {},
   "outputs": [
    {
     "name": "stdout",
     "output_type": "stream",
     "text": [
      "      Name  Age  Salary Department\n",
      "0    Alice   25   50000         HR\n",
      "1      Bob   30   60000       Tech\n",
      "2  Charlie   35   70000       Tech\n",
      "3    David   40   80000         HR\n"
     ]
    }
   ],
   "source": [
    "\n",
    "print(df)"
   ]
  },
  {
   "cell_type": "code",
   "execution_count": 18,
   "id": "c8f4257b-94c0-4599-a6a9-46ed4d4b5ffa",
   "metadata": {},
   "outputs": [
    {
     "name": "stdout",
     "output_type": "stream",
     "text": [
      "             Age   Salary\n",
      "Department               \n",
      "HR          32.5  65000.0\n",
      "Tech        32.5  65000.0\n"
     ]
    }
   ],
   "source": [
    "print(df.groupby('Department')[['Age', 'Salary']].mean())"
   ]
  },
  {
   "cell_type": "code",
   "execution_count": 19,
   "id": "3eb9b370-21a5-4e86-a74a-2bced274e325",
   "metadata": {},
   "outputs": [
    {
     "name": "stdout",
     "output_type": "stream",
     "text": [
      "      Name  Age  Salary Department   Bonus\n",
      "0    Alice   25   50000         HR  2000.0\n",
      "1      Bob   30   60000       Tech  1500.0\n",
      "2  Charlie   35   70000       Tech     NaN\n",
      "3    David   40   80000         HR     NaN\n"
     ]
    }
   ],
   "source": [
    "# Merging DataFrames (like SQL joins)\n",
    "df2 = pd.DataFrame({\n",
    "    'Name': ['Alice', 'Bob', 'Eve'],\n",
    "    'Bonus': [2000, 1500, 3000]\n",
    "})\n",
    "print(pd.merge(df, df2, on='Name', how='left'))  # Left join"
   ]
  },
  {
   "cell_type": "code",
   "execution_count": 20,
   "id": "6a1bbc3a-ebfc-4953-b18f-f00cd212335c",
   "metadata": {},
   "outputs": [
    {
     "name": "stdout",
     "output_type": "stream",
     "text": [
      "                value\n",
      "date                 \n",
      "2023-01-01  70.333333\n",
      "2023-01-04   8.000000\n",
      "2023-01-07  63.333333\n",
      "2023-01-10  58.000000\n"
     ]
    }
   ],
   "source": [
    "# Time series functionality\n",
    "date_rng = pd.date_range(start='1/1/2023', end='1/10/2023', freq='D')\n",
    "ts = pd.DataFrame(date_rng, columns=['date'])\n",
    "ts['value'] = np.random.randint(0, 100, size=(len(date_rng)))\n",
    "ts.set_index('date', inplace=True)\n",
    "print(ts.resample('3D').mean())  # Resample to 3-day periods"
   ]
  },
  {
   "cell_type": "code",
   "execution_count": null,
   "id": "ffe7908e-bd14-47ad-8cbc-8e797050066c",
   "metadata": {},
   "outputs": [],
   "source": []
  }
 ],
 "metadata": {
  "kernelspec": {
   "display_name": "Python 3 (ipykernel)",
   "language": "python",
   "name": "python3"
  },
  "language_info": {
   "codemirror_mode": {
    "name": "ipython",
    "version": 3
   },
   "file_extension": ".py",
   "mimetype": "text/x-python",
   "name": "python",
   "nbconvert_exporter": "python",
   "pygments_lexer": "ipython3",
   "version": "3.12.7"
  }
 },
 "nbformat": 4,
 "nbformat_minor": 5
}
