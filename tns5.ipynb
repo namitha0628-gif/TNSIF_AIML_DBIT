{
 "cells": [
  {
   "cell_type": "code",
   "execution_count": 1,
   "id": "2ecb3cd0-107d-45ad-8065-43bb3547b761",
   "metadata": {},
   "outputs": [
    {
     "name": "stdout",
     "output_type": "stream",
     "text": [
      "('hi', 24567)\n"
     ]
    }
   ],
   "source": [
    "obj=('hi',24567)\n",
    "print(obj)"
   ]
  },
  {
   "cell_type": "code",
   "execution_count": 2,
   "id": "8366dec7-d002-46d5-8e75-b95b7fbb7ac1",
   "metadata": {},
   "outputs": [
    {
     "name": "stdout",
     "output_type": "stream",
     "text": [
      "<class 'tuple'>\n"
     ]
    }
   ],
   "source": [
    "obj=(3,)\n",
    "print(type(obj))"
   ]
  },
  {
   "cell_type": "code",
   "execution_count": 3,
   "id": "0e97de1d-9368-42f4-ac24-f444110192ee",
   "metadata": {},
   "outputs": [
    {
     "name": "stdout",
     "output_type": "stream",
     "text": [
      "(1, 2, 3)\n"
     ]
    }
   ],
   "source": [
    "top = tuple([1,2,3])\n",
    "print(top)"
   ]
  },
  {
   "cell_type": "code",
   "execution_count": 5,
   "id": "fe3d3d02-1f38-4aea-aeda-b716031f6aee",
   "metadata": {},
   "outputs": [
    {
     "name": "stdout",
     "output_type": "stream",
     "text": [
      "(1, 2, 3, 4, 6, 10)\n"
     ]
    }
   ],
   "source": [
    "top=(1,2,3,4,6)\n",
    "top=top+(10,)\n",
    "top+(10,)\n",
    "print(top)"
   ]
  },
  {
   "cell_type": "code",
   "execution_count": 1,
   "id": "cad19fa5-b1b3-404d-8927-d174ed731d9e",
   "metadata": {},
   "outputs": [
    {
     "name": "stdin",
     "output_type": "stream",
     "text": [
      "Enter number of employees 2\n",
      "Enter salary of employee: 3200\n"
     ]
    },
    {
     "name": "stdout",
     "output_type": "stream",
     "text": [
      "maximum salary is : 3200\n",
      "minimum salary is: 3200\n"
     ]
    },
    {
     "name": "stdin",
     "output_type": "stream",
     "text": [
      "Enter salary of employee: 3000\n"
     ]
    },
    {
     "name": "stdout",
     "output_type": "stream",
     "text": [
      "maximum salary is : 3200\n",
      "minimum salary is: 3000\n"
     ]
    }
   ],
   "source": [
    "# Write a python program to input ‘n’ employee salaries and find the minimum and maximum salary amongst ‘n’ employees.\n",
    "\n",
    "t=tuple( )\n",
    "num=int(input(\"Enter number of employees\")) \n",
    "for i in range(num):  \n",
    "    a=int(input(\"Enter salary of employee:\")) \n",
    "    t=t+(a,)\n",
    "    print (\"maximum salary is :\",max(t))\n",
    "    print (\"minimum salary is:\",min(t))"
   ]
  },
  {
   "cell_type": "code",
   "execution_count": 3,
   "id": "78e63112-a24d-4881-8543-8a1b4f832ae9",
   "metadata": {},
   "outputs": [
    {
     "name": "stdin",
     "output_type": "stream",
     "text": [
      "Enter number of employees:  4\n",
      "Enter salary of employee 1:  12000\n",
      "Enter salary of employee 2:  230000\n",
      "Enter salary of employee 3:  20000\n",
      "Enter salary of employee 4:  45000\n"
     ]
    },
    {
     "name": "stdout",
     "output_type": "stream",
     "text": [
      "('12000', '230000', '20000', '45000')\n",
      "\n",
      "Minimum salary among 4 employees: 12000\n",
      "Maximum salary among 4 employees: 45000\n"
     ]
    }
   ],
   "source": [
    "# Write a python program to input ‘n’ employee salaries and find the minimum and maximum salary amongst ‘n’ employees.\n",
    "\n",
    "n = int(input(\"Enter number of employees: \"))\n",
    "salaries = ()\n",
    "\n",
    "for i in range(n):\n",
    "    salary =input(f\"Enter salary of employee {i+1}: \")\n",
    "    salaries+=(salary,)\n",
    "min_salary = min(salaries)\n",
    "max_salary = max(salaries)\n",
    "print(salaries)\n",
    "\n",
    "print(f\"\\nMinimum salary among {n} employees: {min_salary}\")\n",
    "print(f\"Maximum salary among {n} employees: {max_salary}\")"
   ]
  },
  {
   "cell_type": "code",
   "execution_count": 4,
   "id": "bddd5175-a21c-4756-abd8-69770c42e0fe",
   "metadata": {},
   "outputs": [
    {
     "name": "stdout",
     "output_type": "stream",
     "text": [
      "('namitha',)\n",
      "1\n",
      "4\n",
      "(10, 20, 30, 10, 20, 30)\n"
     ]
    }
   ],
   "source": [
    "t = tuple()                     \n",
    "t = t + ('namitha',)             \n",
    "print(t)                        \n",
    "print(len(t))                   \n",
    "t1 = (10, 20, 30)               \n",
    "t2 = t1 + t                     \n",
    "print(len(t2))                  \n",
    "t3 = t1 * 2                    \n",
    "print(t3)"
   ]
  },
  {
   "cell_type": "code",
   "execution_count": 8,
   "id": "fbfb6857-470d-4053-a72f-00f867dc5c10",
   "metadata": {},
   "outputs": [
    {
     "name": "stdin",
     "output_type": "stream",
     "text": [
      "Enter number of employees: 2\n",
      "Enter name:  king\n",
      "Enter employee number:  6839483659\n",
      "Enter name:  ram\n",
      "Enter employee number:  832652356\n"
     ]
    },
    {
     "name": "stdout",
     "output_type": "stream",
     "text": [
      "\n",
      "Employee Details:\n",
      "Name: king, Employee Number: 6839483659\n",
      "Name: ram, Employee Number: 832652356\n",
      "\n",
      "Names: ['king', 'ram']\n",
      "Employee Numbers: ['6839483659', '832652356']\n"
     ]
    }
   ],
   "source": [
    "n = int(input(\"Enter number of employees:\"))\n",
    "employees = {input(\"Enter name: \"): \n",
    "             input(\"Enter employee number: \") for _ in range(n)}\n",
    "\n",
    "print(\"\\nEmployee Details:\")\n",
    "for name, number in employees.items():\n",
    "    print(f\"Name: {name}, Employee Number: {number}\")\n",
    "\n",
    "print(\"\\nNames:\", list(employees.keys()))\n",
    "print(\"Employee Numbers:\", list(employees.values()))\n"
   ]
  },
  {
   "cell_type": "code",
   "execution_count": null,
   "id": "14613708-da81-4059-b8dc-dcd10e6512b7",
   "metadata": {},
   "outputs": [],
   "source": []
  }
 ],
 "metadata": {
  "kernelspec": {
   "display_name": "Python 3 (ipykernel)",
   "language": "python",
   "name": "python3"
  },
  "language_info": {
   "codemirror_mode": {
    "name": "ipython",
    "version": 3
   },
   "file_extension": ".py",
   "mimetype": "text/x-python",
   "name": "python",
   "nbconvert_exporter": "python",
   "pygments_lexer": "ipython3",
   "version": "3.12.7"
  }
 },
 "nbformat": 4,
 "nbformat_minor": 5
}
