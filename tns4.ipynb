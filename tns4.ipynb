{
 "cells": [
  {
   "cell_type": "code",
   "execution_count": 4,
   "id": "8b3da535-efdd-4d53-bb13-0ac9780314f9",
   "metadata": {},
   "outputs": [
    {
     "name": "stdout",
     "output_type": "stream",
     "text": [
      "{'honey': 7411235689, 'sun': 67134561811, 'king': 8813463212}\n"
     ]
    },
    {
     "name": "stdin",
     "output_type": "stream",
     "text": [
      "Enter a name: hary\n"
     ]
    },
    {
     "name": "stdout",
     "output_type": "stream",
     "text": [
      "Name not found\n"
     ]
    }
   ],
   "source": [
    "phonebook ={\"honey\":7411235689, \"sun\":67134561811, \"king\":8813463212}\n",
    "print(phonebook)\n",
    "name= input(\"Enter a name:\")\n",
    "if name in phonebook:\n",
    "    num=int(input(\"enter the number:\"))\n",
    "    phonebook[name]=num\n",
    "    print(\"Success\")\n",
    "else:\n",
    "    print(\"Name not found\")"
   ]
  },
  {
   "cell_type": "code",
   "execution_count": 6,
   "id": "ecd899f3-a644-4a9c-a0cd-27159820631f",
   "metadata": {},
   "outputs": [
    {
     "name": "stdout",
     "output_type": "stream",
     "text": [
      "{'honey': 7411235689, 'sun': 67134561811, 'king': 8813463212}\n",
      "{'honey': 7411235689, 'sun': 67134561811, 'king': 8813463212, 'punya': 54321355}\n",
      "{'honey': 7411235689, 'sun': 67134561811, 'king': 8813463212, 'punya': 54321355, 'maker': 64399455}\n"
     ]
    }
   ],
   "source": [
    "phonebook ={\"honey\":7411235689, \"sun\":67134561811, \"king\":8813463212}\n",
    "print(phonebook)\n",
    "phonebook[\"punya\"]=54321355\n",
    "print(phonebook)\n",
    "phonebook.update({\"maker\": 64399455})\n",
    "print(phonebook)"
   ]
  },
  {
   "cell_type": "code",
   "execution_count": 7,
   "id": "7b5ca739-de7a-42be-8193-986783184f32",
   "metadata": {},
   "outputs": [
    {
     "name": "stdin",
     "output_type": "stream",
     "text": [
      "Enter the name of the user: honet\n"
     ]
    },
    {
     "name": "stdout",
     "output_type": "stream",
     "text": [
      "User not founnd\n",
      "{'honey': 7411235689, 'sun': 67134561811, 'king': 8813463212, 'Mohan': 1234567890}\n"
     ]
    },
    {
     "name": "stdin",
     "output_type": "stream",
     "text": [
      "Enter the name of the user to delete: king\n"
     ]
    },
    {
     "name": "stdout",
     "output_type": "stream",
     "text": [
      "User deleted successfully.\n",
      "{}\n",
      "dict_keys([])\n",
      "dict_values([])\n"
     ]
    }
   ],
   "source": [
    "phonebook = {\"honey\":7411235689, \"sun\":67134561811, \"king\":8813463212}\n",
    "user_name = input(\"Enter the name of the user:\")\n",
    "if user_name in phonebook:\n",
    "    new_number = int(input(\"Enter the new phone number: \"))\n",
    "    phonebook[user_name] = new_number\n",
    "    print(\"Phone number is updated successfully.\")\n",
    "else:\n",
    "    print(\"User not founnd\")\n",
    "phonebook[\"Mohan\"] = 1234567890\n",
    "print(phonebook)\n",
    "user_name1 = input(\"Enter the name of the user to delete:\")\n",
    "if user_name1 in phonebook:\n",
    "    del phonebook[user_name1]\n",
    "    print(\"User deleted successfully.\")\n",
    "phonebook.clear()   # Used to clear the dictionary\n",
    "print(phonebook)\n",
    "print(phonebook.keys())\n",
    "print(phonebook.values())"
   ]
  },
  {
   "cell_type": "code",
   "execution_count": null,
   "id": "4c14c7e0-530f-458c-ad77-a5cd323c81d0",
   "metadata": {},
   "outputs": [],
   "source": []
  }
 ],
 "metadata": {
  "kernelspec": {
   "display_name": "Python 3 (ipykernel)",
   "language": "python",
   "name": "python3"
  },
  "language_info": {
   "codemirror_mode": {
    "name": "ipython",
    "version": 3
   },
   "file_extension": ".py",
   "mimetype": "text/x-python",
   "name": "python",
   "nbconvert_exporter": "python",
   "pygments_lexer": "ipython3",
   "version": "3.12.7"
  }
 },
 "nbformat": 4,
 "nbformat_minor": 5
}
