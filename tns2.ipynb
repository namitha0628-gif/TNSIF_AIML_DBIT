{
 "cells": [
  {
   "cell_type": "code",
   "execution_count": 2,
   "id": "abb2ea9d-211e-4566-a2f3-e3d75d7ccf57",
   "metadata": {},
   "outputs": [
    {
     "name": "stdin",
     "output_type": "stream",
     "text": [
      "Enter a number:  444\n"
     ]
    },
    {
     "name": "stdout",
     "output_type": "stream",
     "text": [
      "Sum reached 444. Exiting...\n"
     ]
    }
   ],
   "source": [
    "total = 0\n",
    "\n",
    "while True:\n",
    "    num = int(input(\"Enter a number: \"))\n",
    "    total += num\n",
    "    if total >= 300:\n",
    "        print(f\"Sum reached {total}. Exiting...\")\n",
    "        break"
   ]
  },
  {
   "cell_type": "code",
   "execution_count": null,
   "id": "6442f538-59ce-4231-a589-e424e90b60da",
   "metadata": {},
   "outputs": [
    {
     "name": "stdin",
     "output_type": "stream",
     "text": [
      "Enter a number:  301\n"
     ]
    },
    {
     "name": "stdout",
     "output_type": "stream",
     "text": [
      "Input too high! Adding 301 would make the total 301, which exceeds 300.\n"
     ]
    }
   ],
   "source": [
    "total = 0\n",
    "\n",
    "while True:\n",
    "    num = int(input(\"Enter a number: \"))\n",
    "    if total + num > 300:\n",
    "        print(f\"Input too high! Adding {num} would make the total {total + num}, which exceeds 300.\")\n",
    "        continue\n",
    "    total += num\n",
    "    if total == 300:\n",
    "        print(f\"Total is exactly 300. Exiting...\")\n",
    "        break"
   ]
  },
  {
   "cell_type": "code",
   "execution_count": null,
   "id": "3f41c413-32eb-4c35-9ea7-b4111df6c6a5",
   "metadata": {},
   "outputs": [],
   "source": [
    "name = input(\"Enter a name: \")\n",
    "vowels = 'aeiouAEIOU'\n",
    "consonants = ''\n",
    "\n",
    "# Loop through each character in the name\n",
    "for char in name:\n",
    "    if char.isalpha() and char not in vowels:\n",
    "        consonants += char\n",
    "\n",
    "print(\"Consonants in your name:\", consonants)"
   ]
  },
  {
   "cell_type": "code",
   "execution_count": null,
   "id": "d4d05b62-dfb5-4bf4-9465-6b1161b85acc",
   "metadata": {},
   "outputs": [],
   "source": []
  },
  {
   "cell_type": "code",
   "execution_count": null,
   "id": "4148c56a-60f6-4d08-b7ed-8d06db16299b",
   "metadata": {},
   "outputs": [],
   "source": []
  },
  {
   "cell_type": "code",
   "execution_count": null,
   "id": "2d9c0690-8e88-4b0f-9f1f-40d0cccd209e",
   "metadata": {},
   "outputs": [],
   "source": []
  },
  {
   "cell_type": "code",
   "execution_count": null,
   "id": "5388d247-f4ee-498f-a0e7-11d71c0b5c54",
   "metadata": {},
   "outputs": [],
   "source": []
  },
  {
   "cell_type": "code",
   "execution_count": null,
   "id": "74105a85-5cdc-4f58-ae00-0119a672d300",
   "metadata": {},
   "outputs": [],
   "source": []
  }
 ],
 "metadata": {
  "kernelspec": {
   "display_name": "Python 3 (ipykernel)",
   "language": "python",
   "name": "python3"
  },
  "language_info": {
   "codemirror_mode": {
    "name": "ipython",
    "version": 3
   },
   "file_extension": ".py",
   "mimetype": "text/x-python",
   "name": "python",
   "nbconvert_exporter": "python",
   "pygments_lexer": "ipython3",
   "version": "3.12.7"
  }
 },
 "nbformat": 4,
 "nbformat_minor": 5
}
