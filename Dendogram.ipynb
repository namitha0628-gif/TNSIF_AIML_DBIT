{
 "cells": [
  {
   "cell_type": "code",
   "execution_count": 1,
   "id": "654e83a4-cb8a-4cfa-82ee-8d1ce94e1e5e",
   "metadata": {},
   "outputs": [
    {
     "name": "stdout",
     "output_type": "stream",
     "text": [
      "   CustomerID  Annual Income  Spending Score\n",
      "0           1             15              39\n",
      "1           2             16              81\n",
      "2           3             17               6\n",
      "3           4             18              77\n",
      "4           5             19              40\n",
      "5           6             20              76\n",
      "6           7             21               6\n",
      "7           8             22              94\n",
      "8           9             23               3\n",
      "9          10             24              72\n"
     ]
    }
   ],
   "source": [
    "# 1. Load the dataset into a pandas DataFrame. What does the data represent?\n",
    "import pandas as pd\n",
    "data = {\n",
    "    'CustomerID': [1,2,3,4,5,6,7,8,9,10],\n",
    "    'Annual Income': [15,16,17,18,19,20,21,22,23,24],\n",
    "    'Spending Score': [39,81,6,77,40,76,6,94,3,72]\n",
    "}\n",
    "\n",
    "df = pd.DataFrame(data)\n",
    "print(df)\n",
    "#This data represents customer profiles with their income and spending score."
   ]
  },
  {
   "cell_type": "code",
   "execution_count": 3,
   "id": "b2841916-d34c-40d1-b2f1-0228f1400c43",
   "metadata": {},
   "outputs": [],
   "source": [
    "#2. Select the features Annual Income and Spending Score for clustering. Why do we choose these?\n",
    "X = df[['Annual Income', 'Spending Score']]\n",
    "# Annual Income and Spending Score are chosen because they help group customers by earning and spending behavior"
   ]
  },
  {
   "cell_type": "code",
   "execution_count": 4,
   "id": "61f62b1f-b9af-48e5-bb71-523979a56323",
   "metadata": {},
   "outputs": [
    {
     "data": {
      "image/png": "[encoded data removed]",
      "text/plain": [
       "<Figure size 800x400 with 1 Axes>"
      ]
     },
     "metadata": {},
     "output_type": "display_data"
    }
   ],
   "source": [
    "#3. Generate a dendrogram using scipy. What does it represent?\n",
    "from scipy.cluster.hierarchy import dendrogram, linkage\n",
    "import matplotlib.pyplot as plt\n",
    "\n",
    "linked = linkage(X, method='ward')\n",
    "plt.figure(figsize=(8,4))\n",
    "dendrogram(linked, labels=df['CustomerID'].values)\n",
    "plt.title('Dendrogram')\n",
    "plt.xlabel('CustomerID')\n",
    "plt.ylabel('Euclidean distance')\n",
    "plt.grid(True)\n",
    "plt.show()\n",
    "#The dendrogram shows how customers cluster together based on similarity."
   ]
  },
  {
   "cell_type": "code",
   "execution_count": 5,
   "id": "057c5e4d-07e4-446c-8a62-2c5fd5135eda",
   "metadata": {},
   "outputs": [
    {
     "name": "stdout",
     "output_type": "stream",
     "text": [
      "by looking at the largest vertical gap in the dendrogram (“elbow” method) to choose the number of clusters (ex: 3)\n"
     ]
    }
   ],
   "source": [
    "#4. How do you decide the optimal number of clusters from the dendrogram?\n",
    "print(\"by looking at the largest vertical gap in the dendrogram (“elbow” method) to choose the number of clusters (ex: 3)\")"
   ]
  },
  {
   "cell_type": "code",
   "execution_count": 6,
   "id": "ba10a237-c14a-4815-b7a2-b422d9f4fdbf",
   "metadata": {},
   "outputs": [],
   "source": [
    "#5. Apply Agglomerative Clustering with the chosen number of clusters. What are the final cluster assignments?\n",
    "\n",
    "from sklearn.cluster import AgglomerativeClustering\n",
    "n_clusters = 3 \n",
    "agglo = AgglomerativeClustering(n_clusters=n_clusters)\n",
    "df['Cluster'] = agglo.fit_predict(X)"
   ]
  },
  {
   "cell_type": "code",
   "execution_count": 12,
   "id": "909c2b19-b785-48f1-bb63-88f8ae707a70",
   "metadata": {},
   "outputs": [
    {
     "name": "stdout",
     "output_type": "stream",
     "text": [
      "   CustomerID  Annual Income  Spending Score  Cluster\n",
      "0           1             15              39        2\n",
      "1           2             16              81        0\n",
      "2           3             17               6        1\n",
      "3           4             18              77        0\n",
      "4           5             19              40        2\n",
      "5           6             20              76        0\n",
      "6           7             21               6        1\n",
      "7           8             22              94        0\n",
      "8           9             23               3        1\n",
      "9          10             24              72        0\n",
      "Cluster 0: High spending scores, varied income\n",
      "Cluster 1: Very low spending scores, varied income\n",
      "Cluster 2: Moderate spending and income \n"
     ]
    }
   ],
   "source": [
    "#6. Interpret the clusters. What business insights can be derived?\n",
    "print(df[['CustomerID', 'Annual Income', 'Spending Score', 'Cluster']])  # example if lowercase\n",
    "\n",
    "\n",
    "print(\"\"\"Cluster 0: High spending scores, varied income\n",
    "Cluster 1: Very low spending scores, varied income\n",
    "Cluster 2: Moderate spending and income \"\"\")"
   ]
  },
  {
   "cell_type": "code",
   "execution_count": 13,
   "id": "c8db72ce-1e4e-426b-9e1b-08453b49671f",
   "metadata": {},
   "outputs": [
    {
     "name": "stdout",
     "output_type": "stream",
     "text": [
      "\n",
      "Cluster 0 Summary:\n",
      "       Annual Income  Spending Score\n",
      "count       5.000000        5.000000\n",
      "mean       20.000000       80.000000\n",
      "std         3.162278        8.455767\n",
      "min        16.000000       72.000000\n",
      "25%        18.000000       76.000000\n",
      "50%        20.000000       77.000000\n",
      "75%        22.000000       81.000000\n",
      "max        24.000000       94.000000\n",
      "\n",
      "Cluster 1 Summary:\n",
      "       Annual Income  Spending Score\n",
      "count       3.000000        3.000000\n",
      "mean       20.333333        5.000000\n",
      "std         3.055050        1.732051\n",
      "min        17.000000        3.000000\n",
      "25%        19.000000        4.500000\n",
      "50%        21.000000        6.000000\n",
      "75%        22.000000        6.000000\n",
      "max        23.000000        6.000000\n",
      "\n",
      "Cluster 2 Summary:\n",
      "       Annual Income  Spending Score\n",
      "count       2.000000        2.000000\n",
      "mean       17.000000       39.500000\n",
      "std         2.828427        0.707107\n",
      "min        15.000000       39.000000\n",
      "25%        16.000000       39.250000\n",
      "50%        17.000000       39.500000\n",
      "75%        18.000000       39.750000\n",
      "max        19.000000       40.000000\n"
     ]
    }
   ],
   "source": [
    "for cluster in sorted(df['Cluster'].unique()):\n",
    "    group = df[df['Cluster'] == cluster]\n",
    "    print(f\"\\nCluster {cluster} Summary:\")\n",
    "    print(group[['Annual Income', 'Spending Score']].describe())"
   ]
  },
  {
   "cell_type": "code",
   "execution_count": null,
   "id": "b7342c85-cae5-4686-8cbb-ed274b3ff4be",
   "metadata": {},
   "outputs": [],
   "source": []
  }
 ],
 "metadata": {
  "kernelspec": {
   "display_name": "Python 3 (ipykernel)",
   "language": "python",
   "name": "python3"
  },
  "language_info": {
   "codemirror_mode": {
    "name": "ipython",
    "version": 3
   },
   "file_extension": ".py",
   "mimetype": "text/x-python",
   "name": "python",
   "nbconvert_exporter": "python",
   "pygments_lexer": "ipython3",
   "version": "3.12.7"
  }
 },
 "nbformat": 4,
 "nbformat_minor": 5
}
