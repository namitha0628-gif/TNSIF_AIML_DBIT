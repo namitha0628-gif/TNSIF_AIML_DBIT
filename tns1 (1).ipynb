{
 "cells": [
  {
   "cell_type": "code",
   "execution_count": 4,
   "id": "8a742938-ba5a-433b-9794-5c3d97549f30",
   "metadata": {},
   "outputs": [
    {
     "name": "stdout",
     "output_type": "stream",
     "text": [
      "Enter correct username and password combo to continue\n"
     ]
    },
    {
     "name": "stdin",
     "output_type": "stream",
     "text": [
      "Enter username:  bank_admin\n",
      "Enter password:  1234\n"
     ]
    },
    {
     "name": "stdout",
     "output_type": "stream",
     "text": [
      "Access denied. Try again.\n"
     ]
    },
    {
     "name": "stdin",
     "output_type": "stream",
     "text": [
      "Enter username:  bank_admin\n",
      "Enter password:  12345\n"
     ]
    },
    {
     "name": "stdout",
     "output_type": "stream",
     "text": [
      "Access denied. Try again.\n"
     ]
    },
    {
     "name": "stdin",
     "output_type": "stream",
     "text": [
      "Enter username:  bank_admin\n",
      "Enter password:  1234\n"
     ]
    },
    {
     "name": "stdout",
     "output_type": "stream",
     "text": [
      "Access denied. Try again.\n"
     ]
    }
   ],
   "source": [
    "print('Enter correct username and password combo to continue')\n",
    "count=0\n",
    "while count < 3:\n",
    "    username = input('Enter username: ')\n",
    "    password = input('Enter password: ')\n",
    "    if password=='1234567' and username=='bank_admin':\n",
    "        print('Access granted')\n",
    "        break\n",
    "    else:\n",
    "        print('Access denied. Try again.')\n",
    "        count += 1\n"
   ]
  },
  {
   "cell_type": "code",
   "execution_count": null,
   "id": "351513ff-244f-4c4b-aefa-a46a0fca87de",
   "metadata": {},
   "outputs": [],
   "source": []
  }
 ],
 "metadata": {
  "kernelspec": {
   "display_name": "Python 3 (ipykernel)",
   "language": "python",
   "name": "python3"
  },
  "language_info": {
   "codemirror_mode": {
    "name": "ipython",
    "version": 3
   },
   "file_extension": ".py",
   "mimetype": "text/x-python",
   "name": "python",
   "nbconvert_exporter": "python",
   "pygments_lexer": "ipython3",
   "version": "3.12.7"
  }
 },
 "nbformat": 4,
 "nbformat_minor": 5
}
